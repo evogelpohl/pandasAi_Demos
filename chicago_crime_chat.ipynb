{
 "cells": [
  {
   "cell_type": "markdown",
   "id": "715e7bc4-f605-4d93-a173-a5a71d86b617",
   "metadata": {},
   "source": [
    "<img src='https://data.cityofchicago.org/api/assets/73F1665C-0FE6-4183-8AD1-E91DB8EFAFA4?7CB02402-8E06-48B0-8C9A-3890182D58C7.png'>"
   ]
  },
  {
   "cell_type": "markdown",
   "id": "60396270",
   "metadata": {},
   "source": [
    "## Package setup."
   ]
  },
  {
   "cell_type": "code",
   "execution_count": 13,
   "id": "e34dcc08",
   "metadata": {},
   "outputs": [
    {
     "name": "stdout",
     "output_type": "stream",
     "text": [
      "Name: pandas\n",
      "Version: 1.5.3\n",
      "Summary: Powerful data structures for data analysis, time series, and statistics\n",
      "Home-page: https://pandas.pydata.org\n",
      "Author: The Pandas Development Team\n",
      "Author-email: pandas-dev@python.org\n",
      "License: BSD-3-Clause\n",
      "Location: /Users/eric/Library/CloudStorage/OneDrive-Personal/dev/pandasAi/.venv/lib/python3.12/site-packages\n",
      "Requires: numpy, numpy, python-dateutil, pytz\n",
      "Required-by: pandasai\n",
      "Name: pandasai\n",
      "Version: 2.2.1\n",
      "Summary: Chat with your database (SQL, CSV, pandas, polars, mongodb, noSQL, etc). PandasAI makes data analysis conversational using LLMs (GPT 3.5 / 4, Anthropic, VertexAI) and RAG.\n",
      "Home-page: \n",
      "Author: Gabriele Venturi\n",
      "Author-email: \n",
      "License: MIT\n",
      "Location: /Users/eric/Library/CloudStorage/OneDrive-Personal/dev/pandasAi/.venv/lib/python3.12/site-packages\n",
      "Requires: astor, duckdb, faker, jinja2, matplotlib, openai, pandas, pillow, pydantic, python-dotenv, requests, scipy, sqlalchemy, sqlglot\n",
      "Required-by: \n"
     ]
    }
   ],
   "source": [
    "# # In case you have the wrong version of Pandas installed, remove it and install the ver that's compat with PandasAI in your venv. \n",
    "# !pip uninstall pandas -y\n",
    "# !pip uninstall numpy -y\n",
    "\n",
    "# Install some needed packages\n",
    "!pip install -U pandasai --quiet\n",
    "!pip install -U plotly --quiet\n",
    "!pip install pyyaml --quiet\n",
    "\n",
    "# Show the package vers\n",
    "!pip show pandas\n",
    "!pip show pandasai"
   ]
  },
  {
   "cell_type": "markdown",
   "id": "d0d65a9b",
   "metadata": {},
   "source": [
    "## Read the local crime csv"
   ]
  },
  {
   "cell_type": "code",
   "execution_count": 14,
   "id": "f5cfb108-2c4e-4a1f-b4ea-091a258fc608",
   "metadata": {},
   "outputs": [],
   "source": [
    "import pandas as pd\n",
    "crime = pd.read_csv('./chicago_iucr.csv')\n",
    "\n",
    "import warnings\n",
    "warnings.filterwarnings('ignore')\n"
   ]
  },
  {
   "cell_type": "markdown",
   "id": "cef42dca",
   "metadata": {},
   "source": [
    "## Create a head Df to help the AI with col name descs. "
   ]
  },
  {
   "cell_type": "code",
   "execution_count": 15,
   "id": "f9d0efbd-1525-4f5b-8c52-5257989e6722",
   "metadata": {},
   "outputs": [],
   "source": [
    "df_head = crime.head(3)"
   ]
  },
  {
   "cell_type": "code",
   "execution_count": 16,
   "id": "1fd6c7d0-a3f2-41df-819c-887e7b5e1268",
   "metadata": {},
   "outputs": [],
   "source": [
    "field_descriptions = {\n",
    "    \"id\": \"Unique identifier for the record.\",\n",
    "    \"date\": \"The Date when the incident occurred. Stored as text.\",\n",
    "    \"block\": \"Partially redacted address where the incident occurred, within the same block as the actual address.\",\n",
    "    \"location_description\": \"Description of the location where the incident occurred.\",\n",
    "    \"arrest\": \"Indicates whether an arrest was made.\",\n",
    "    \"domestic\": \"Indicates whether the incident was domestic-related as per the Illinois Domestic Violence Act.\",\n",
    "    \"beat\": \"Police beat where the incident occurred, part of the smallest police geographic area.\",\n",
    "    \"district\": \"Police district where the incident occurred.\",\n",
    "    \"ward\": \"City Council district (ward) where the incident occurred.\",\n",
    "    \"community_area\": \"Indicates the community area where the incident occurred, with Chicago having 77 community areas.\",\n",
    "    \"fbi_code\": \"Crime classification as outlined in the FBI's National Incident-Based Reporting System (NIBRS).\",\n",
    "    \"latitude\": \"Latitude of the incident location, shifted for partial redaction but on the same block.\",\n",
    "    \"longitude\": \"Longitude of the incident location, shifted for partial redaction but on the same block.\",\n",
    "    \"crime\": \"The crime committed, aka the incident.\"\n",
    "}\n"
   ]
  },
  {
   "cell_type": "markdown",
   "id": "c141e1a0",
   "metadata": {},
   "source": [
    "## Import all our Pandas AI stuff & set up our GPT Model (Azure, OpenAI or Local) Behavior"
   ]
  },
  {
   "cell_type": "code",
   "execution_count": 17,
   "id": "66ffb668-0182-4e09-8062-a40f1874627c",
   "metadata": {},
   "outputs": [],
   "source": [
    "import os\n",
    "from pandasai import SmartDataframe\n",
    "from pandasai.llm import AzureOpenAI\n",
    "from pandasai.llm.local_llm import LocalLLM\n",
    "from pandasai.llm import OpenAI\n",
    "from pandasai import Agent\n",
    "from pandasai.llm.openai import OpenAI\n",
    "from pandasai.connectors import PandasConnector\n",
    "from dotenv import load_dotenv\n",
    "# Load environment variables from .env file\n",
    "load_dotenv()\n",
    "\n",
    "# Get my Openai Var Key\n",
    "open_ai_key = os.getenv('OPENAI_API_KEY')\n",
    "\n",
    "# Choose the model\n",
    "select_model = 'OpenAI' #OpenAI $$, #AzureOpenAI #Presdio #Local MyModel mY Macbook\n",
    "\n",
    "if select_model == 'Azure':\n",
    "    # Define the LLM model for Azure (if True)\n",
    "    azure_api_key = os.getenv('AZURE_OPENAI_API_KEY')\n",
    "    azure_api_ver = os.getenv('AZURE_API_VERSION')\n",
    "    azure_api_endpt = os.getenv('AZURE_OPENAI_ENDPOINT')\n",
    "    azure_oai_deployment = os.getenv('AZURE_OPENAI_DEPLOYMENT')\n",
    "    llm = AzureOpenAI(\n",
    "        api_token=azure_api_key,\n",
    "        azure_endpoint=azure_api_endpt,\n",
    "        api_version=azure_api_ver,\n",
    "        deployment_name=azure_oai_deployment,\n",
    "        temperature=0,\n",
    "        seed=26,\n",
    "    )\n",
    "elif select_model == 'OpenAI':\n",
    "    openai_api_key = os.getenv('OPENAI_API_KEY')\n",
    "    llm = OpenAI(api_token=openai_api_key, \n",
    "                 temperature=0,\n",
    "                 seed=35,\n",
    "                )\n",
    "    \n",
    "elif select_model == 'Local':\n",
    "    llm = LocalLLM(api_base=\"http://host.docker.internal:1234/v1\",\n",
    "                  temperature=0, \n",
    "                  seed=55,\n",
    "                  )\n",
    "\n",
    "\n",
    "# A description of the overall table\n",
    "description = '''You are a data analysis agent. Your main goal is to help non-technical users to analyze data.\\\n",
    "                This dataset reflects reported incidents of crime (with the exception of murders where \\\n",
    "                data exists for each victim) that occurred in the City of Chicago from 2001 to present, \\\n",
    "                minus the most recent seven days. Data is extracted from the Chicago Police Department's \\\n",
    "                CLEAR (Citizen Law Enforcement Analysis and Reporting) system. In order to protect the privacy of crime victims, \\\n",
    "                addresses are shown at the block level only and specific locations are not identified. '''\n",
    "\n",
    "# Define my connector\n",
    "agent = Agent(crime, config={'llm': llm,\n",
    "                            'description': description,\n",
    "                            'enable_cache': False,\n",
    "                            'verbose': False,\n",
    "                            'field_description': field_descriptions,\n",
    "                            'save_charts': False,\n",
    "                            'save_charts_path': './saved_plots',\n",
    "                            'open_charts': False,\n",
    "                            }\n",
    "             )"
   ]
  },
  {
   "cell_type": "markdown",
   "id": "ccbcec40",
   "metadata": {},
   "source": [
    "## Simple Chat"
   ]
  },
  {
   "cell_type": "code",
   "execution_count": 18,
   "id": "f9d5e4d2-bd5d-43a3-a620-5d1876113b8b",
   "metadata": {},
   "outputs": [
    {
     "data": {
      "text/plain": [
       "'/Users/eric/Library/CloudStorage/OneDrive-Personal/dev/pandasAi/exports/charts/temp_chart.png'"
      ]
     },
     "execution_count": 18,
     "metadata": {},
     "output_type": "execute_result"
    },
    {
     "data": {
      "image/png": "[encoded data removed]",
      "text/plain": [
       "<Figure size 1200x600 with 1 Axes>"
      ]
     },
     "metadata": {},
     "output_type": "display_data"
    }
   ],
   "source": [
    "query = ''' Graph a trend line for all crimes by date, for the previous year only.   '''\n",
    "agent.chat(query=query)"
   ]
  },
  {
   "cell_type": "code",
   "execution_count": 19,
   "id": "b1c8539e-06e5-4048-83e3-e5f8cd0f210e",
   "metadata": {},
   "outputs": [
    {
     "name": "stdout",
     "output_type": "stream",
     "text": [
      "# TODO: import the required dependencies\n",
      "import pandas as pd\n",
      "import matplotlib.pyplot as plt\n",
      "\n",
      "# Filter data for the previous year\n",
      "current_year = pd.Timestamp.now().year\n",
      "previous_year_data = pd.concat([df[df['year'] == current_year - 1] for df in dfs])\n",
      "\n",
      "# Convert 'date' column to datetime format\n",
      "previous_year_data['date'] = pd.to_datetime(previous_year_data['date'])\n",
      "\n",
      "# Group by date and count number of crimes\n",
      "crime_counts_by_date = previous_year_data.groupby('date').size()\n",
      "\n",
      "# Plot trend line for all crimes by date\n",
      "plt.figure(figsize=(12, 6))\n",
      "crime_counts_by_date.plot()\n",
      "plt.title('Trend Line for All Crimes by Date (Previous Year)')\n",
      "plt.xlabel('Date')\n",
      "plt.ylabel('Number of Crimes')\n",
      "plt.grid(True)\n",
      "plt.xticks(rotation=45)\n",
      "plt.tight_layout()\n",
      "\n",
      "# Save the plot as a png file\n",
      "plt.savefig('crime_trend_line.png')\n",
      "\n",
      "# Declare result var\n",
      "result = {\"type\": \"plot\", \"value\": \"crime_trend_line.png\"}\n"
     ]
    }
   ],
   "source": [
    "print(agent.last_code_generated)"
   ]
  },
  {
   "cell_type": "code",
   "execution_count": 20,
   "id": "0a1e36d3-505d-49b6-9764-8c72377b9091",
   "metadata": {},
   "outputs": [
    {
     "data": {
      "text/plain": [
       "'I looked at the data from the previous year and grouped it by date to count the number of crimes that occurred each day. Then, I created a plot to show how the number of crimes changed over time. I added labels to the plot to make it easy to understand, and saved the plot as an image file for you to view later.'"
      ]
     },
     "execution_count": 20,
     "metadata": {},
     "output_type": "execute_result"
    }
   ],
   "source": [
    "agent.explain()"
   ]
  }
 ],
 "metadata": {
  "kernelspec": {
   "display_name": "Python 3 (ipykernel)",
   "language": "python",
   "name": "python3"
  },
  "language_info": {
   "codemirror_mode": {
    "name": "ipython",
    "version": 3
   },
   "file_extension": ".py",
   "mimetype": "text/x-python",
   "name": "python",
   "nbconvert_exporter": "python",
   "pygments_lexer": "ipython3",
   "version": "3.12.3"
  }
 },
 "nbformat": 4,
 "nbformat_minor": 5
}
