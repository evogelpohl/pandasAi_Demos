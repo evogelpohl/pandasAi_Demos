{
 "cells": [
  {
   "cell_type": "markdown",
   "id": "715e7bc4-f605-4d93-a173-a5a71d86b617",
   "metadata": {},
   "source": [
    "<img src='https://data.cityofchicago.org/api/assets/73F1665C-0FE6-4183-8AD1-E91DB8EFAFA4?7CB02402-8E06-48B0-8C9A-3890182D58C7.png'>"
   ]
  },
  {
   "cell_type": "markdown",
   "id": "60396270",
   "metadata": {},
   "source": [
    "## Package setup."
   ]
  },
  {
   "cell_type": "code",
   "execution_count": null,
   "id": "e34dcc08",
   "metadata": {},
   "outputs": [],
   "source": [
    "# # In case you have the wrong version of Pandas installed, remove it and install the ver that's compat with PandasAI in your venv. \n",
    "# !pip uninstall pandas -y # Remove an pre 1.5.3\n",
    "# !pip uninstall numpy -y\n",
    "\n",
    "# Install some needed packages\n",
    "!pip install -U pandasai --quiet\n",
    "!pip install -U plotly --quiet\n",
    "!pip install pyyaml --quiet\n",
    "!pip install seaborn\n",
    "!pip install wordcloud\n",
    "\n",
    "# Show the package vers\n",
    "!pip show pandas\n",
    "!pip show pandasai"
   ]
  },
  {
   "cell_type": "markdown",
   "id": "d0d65a9b",
   "metadata": {},
   "source": [
    "## Read the local crime csv"
   ]
  },
  {
   "cell_type": "code",
   "execution_count": null,
   "id": "f5cfb108-2c4e-4a1f-b4ea-091a258fc608",
   "metadata": {},
   "outputs": [],
   "source": [
    "import pandas as pd\n",
    "# ensure you've unzipped the data and changed this path as needed\n",
    "crime = pd.read_csv('./data/chicago_iucr.csv')\n",
    "\n",
    "import warnings\n",
    "warnings.filterwarnings('ignore')\n"
   ]
  },
  {
   "cell_type": "markdown",
   "id": "cef42dca",
   "metadata": {},
   "source": [
    "## Create a head Df to help the AI with col name descs. "
   ]
  },
  {
   "cell_type": "code",
   "execution_count": null,
   "id": "f9d0efbd-1525-4f5b-8c52-5257989e6722",
   "metadata": {},
   "outputs": [],
   "source": [
    "df_head = crime.head(3)"
   ]
  },
  {
   "cell_type": "code",
   "execution_count": null,
   "id": "1fd6c7d0-a3f2-41df-819c-887e7b5e1268",
   "metadata": {},
   "outputs": [],
   "source": [
    "field_descriptions = {\n",
    "    \"id\": \"Unique identifier for the record.\",\n",
    "    \"date\": \"The Date when the incident occurred. Stored as text.\",\n",
    "    \"block\": \"Partially redacted address where the incident occurred, within the same block as the actual address.\",\n",
    "    \"location_description\": \"Description of the location where the incident occurred.\",\n",
    "    \"arrest\": \"Indicates whether an arrest was made.\",\n",
    "    \"domestic\": \"Indicates whether the incident was domestic-related as per the Illinois Domestic Violence Act.\",\n",
    "    \"beat\": \"Police beat where the incident occurred, part of the smallest police geographic area.\",\n",
    "    \"district\": \"Police district where the incident occurred.\",\n",
    "    \"ward\": \"City Council district (ward) where the incident occurred.\",\n",
    "    \"community_area\": \"Indicates the community area where the incident occurred, with Chicago having 77 community areas.\",\n",
    "    \"fbi_code\": \"Crime classification as outlined in the FBI's National Incident-Based Reporting System (NIBRS).\",\n",
    "    \"latitude\": \"Latitude of the incident location, shifted for partial redaction but on the same block.\",\n",
    "    \"longitude\": \"Longitude of the incident location, shifted for partial redaction but on the same block.\",\n",
    "    \"crime\": \"The crime committed, aka the incident.\"\n",
    "}\n"
   ]
  },
  {
   "cell_type": "markdown",
   "id": "c141e1a0",
   "metadata": {},
   "source": [
    "## Import all our Pandas AI stuff & set up our GPT Model (Azure, OpenAI or Local) Behavior"
   ]
  },
  {
   "cell_type": "code",
   "execution_count": null,
   "id": "66ffb668-0182-4e09-8062-a40f1874627c",
   "metadata": {},
   "outputs": [],
   "source": [
    "import os\n",
    "from pandasai import SmartDataframe\n",
    "from pandasai.llm import AzureOpenAI\n",
    "from pandasai.llm.local_llm import LocalLLM\n",
    "from pandasai.llm import OpenAI\n",
    "from pandasai import Agent\n",
    "from pandasai.llm.openai import OpenAI\n",
    "from pandasai.connectors import PandasConnector\n",
    "from dotenv import load_dotenv\n",
    "# Load environment variables from .env file\n",
    "load_dotenv()\n",
    "\n",
    "# Get my Openai Var Key\n",
    "open_ai_key = os.getenv('OPENAI_API_KEY')\n",
    "\n",
    "# Choose the model\n",
    "select_model = 'OpenAI' #OpenAI $$, #AzureOpenAI #Presdio #Local via LMStudio or similar.\n",
    "\n",
    "if select_model == 'Azure':\n",
    "    # Define the LLM model for Azure (if True)\n",
    "    azure_api_key = os.getenv('AZURE_OPENAI_API_KEY')\n",
    "    azure_api_ver = os.getenv('AZURE_API_VERSION')\n",
    "    azure_api_endpt = os.getenv('AZURE_OPENAI_ENDPOINT')\n",
    "    azure_oai_deployment = os.getenv('AZURE_OPENAI_DEPLOYMENT')\n",
    "    llm = AzureOpenAI(\n",
    "        api_token=azure_api_key,\n",
    "        azure_endpoint=azure_api_endpt,\n",
    "        api_version=azure_api_ver,\n",
    "        deployment_name=azure_oai_deployment,\n",
    "        temperature=0,\n",
    "        seed=26,\n",
    "    )\n",
    "elif select_model == 'OpenAI':\n",
    "    openai_api_key = os.getenv('OPENAI_API_KEY')\n",
    "    llm = OpenAI(api_token=openai_api_key, \n",
    "                 temperature=0,\n",
    "                 seed=35,\n",
    "                )\n",
    "    \n",
    "elif select_model == 'Local':\n",
    "    llm = LocalLLM(api_base=\"http://host.docker.internal:1234/v1\",\n",
    "                  temperature=0, \n",
    "                  seed=55,\n",
    "                  )\n",
    "\n",
    "\n",
    "# A description of the overall table\n",
    "description = '''You are a data analysis agent. Your main goal is to help non-technical users to analyze data.\\\n",
    "                This dataset reflects reported incidents of crime (with the exception of murders where \\\n",
    "                data exists for each victim) that occurred in the City of Chicago from 2001 to present, \\\n",
    "                minus the most recent seven days. Data is extracted from the Chicago Police Department's \\\n",
    "                CLEAR (Citizen Law Enforcement Analysis and Reporting) system. In order to protect the privacy of crime victims, \\\n",
    "                addresses are shown at the block level only and specific locations are not identified. '''\n",
    "\n",
    "# Define my connector\n",
    "agent = Agent(crime, config={'llm': llm,\n",
    "                            'description': description,\n",
    "                            'enable_cache': False,\n",
    "                            'verbose': False,\n",
    "                            'field_description': field_descriptions,\n",
    "                            'save_charts': False,\n",
    "                            'save_charts_path': './saved_plots',\n",
    "                            'open_charts': False,\n",
    "                            }\n",
    "             )"
   ]
  },
  {
   "cell_type": "markdown",
   "id": "ccbcec40",
   "metadata": {},
   "source": [
    "## Simple Chat"
   ]
  },
  {
   "cell_type": "code",
   "execution_count": null,
   "id": "f9d5e4d2-bd5d-43a3-a620-5d1876113b8b",
   "metadata": {},
   "outputs": [],
   "source": [
    "query = ''' use ploty not matplotlib! for the top 3 crimes in 2024, create a heatmap plot using seaborn for the number of crimes by arrest, domestic.  '''\n",
    "agent.chat(query=query)"
   ]
  },
  {
   "cell_type": "code",
   "execution_count": null,
   "id": "b1c8539e-06e5-4048-83e3-e5f8cd0f210e",
   "metadata": {},
   "outputs": [],
   "source": [
    "print(agent.last_code_generated)"
   ]
  },
  {
   "cell_type": "code",
   "execution_count": null,
   "id": "0a1e36d3-505d-49b6-9764-8c72377b9091",
   "metadata": {},
   "outputs": [],
   "source": [
    "agent.explain()"
   ]
  }
 ],
 "metadata": {
  "kernelspec": {
   "display_name": "Python 3 (ipykernel)",
   "language": "python",
   "name": "python3"
  },
  "language_info": {
   "codemirror_mode": {
    "name": "ipython",
    "version": 3
   },
   "file_extension": ".py",
   "mimetype": "text/x-python",
   "name": "python",
   "nbconvert_exporter": "python",
   "pygments_lexer": "ipython3",
   "version": "3.12.3"
  }
 },
 "nbformat": 4,
 "nbformat_minor": 5
}
