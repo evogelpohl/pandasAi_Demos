{
 "cells": [
  {
   "cell_type": "code",
   "execution_count": null,
   "id": "1cb0b4ac-bd37-4e37-bb49-a50d0cc5e27d",
   "metadata": {
    "jupyter": {
     "source_hidden": true
    }
   },
   "outputs": [],
   "source": [
    "# # Fetch IUCR descriptions\n",
    "# iucr_url = 'https://data.cityofchicago.org/resource/c7ck-438e.json'\n",
    "# iucr_response = requests.get(iucr_url)\n",
    "\n",
    "# if iucr_response.status_code == 200:\n",
    "#     iucr_data = iucr_response.json()\n",
    "#     iucr_df = pd.DataFrame(iucr_data)\n",
    "    \n",
    "#     # Convert 'iucr' in iucr_df to match the type in results_df if necessary\n",
    "#     # Assuming 'iucr' in results_df is already string, if not, convert it\n",
    "#     results_df['iucr'] = results_df['iucr'].astype(str)\n",
    "#     iucr_df['iucr'] = iucr_df['iucr'].astype(str)\n",
    "    \n",
    "#     # Merge iucr_df with results_df on 'iucr' to add descriptions\n",
    "#     results_df = pd.merge(results_df, iucr_df[['iucr', 'primary_description', 'secondary_description']], on='iucr', how='left')\n",
    "#     results_df = results_df.rename(columns={\n",
    "#                                             'primary_description': 'primary_iucr_desc',\n",
    "#                                             'secondary_description': 'secondary_iucr_desc'})\n",
    "# else:\n",
    "#     print(f\"Failed to fetch IUCR data. Status code: {iucr_response.status_code}\")\n"
   ]
  },
  {
   "cell_type": "code",
   "execution_count": 1,
   "id": "cb307115-1467-48f2-964b-a0d3c3595cca",
   "metadata": {},
   "outputs": [],
   "source": [
    "# IMPORTS\n",
    "import os\n",
    "import pandas as pd\n",
    "from sodapy import Socrata\n",
    "from dotenv import load_dotenv\n",
    "\n",
    "# Load environment variables\n",
    "load_dotenv()\n",
    "socrata_app_token = os.getenv('SOCRATE_APP_TOKEN')\n",
    "socrata_user_id = os.getenv('SOCRATA_MYLOGIN')\n",
    "socrata_password = os.getenv('SOCRATA_MYPW')\n",
    "\n",
    "def extract_data(token, user_id, password, dataset_id=\"ijzp-q8t2\", rows_to_download=50):\n",
    "    \"\"\"Extract data from the Socrata API.\"\"\"\n",
    "    client = Socrata(\"data.cityofchicago.org\", token, username=user_id, password=password)\n",
    "    client.timeout = 30  # Set request timeout\n",
    "    # Fetch data from dataset\n",
    "    return pd.DataFrame.from_records(client.get(dataset_id, limit=rows_to_download))\n",
    "\n",
    "def transform_data(df):\n",
    "    \"\"\"Simplify the DataFrame by creating and dropping columns.\"\"\"\n",
    "    # Create 'crime' column by concatenating 'primary_type' and 'description'\n",
    "    df['crime'] = df['primary_type'] + ' - ' + df['description']\n",
    "\n",
    "    # If you want to set the time to midnight (00:00:00)\n",
    "    df['date'] = pd.to_datetime(df['date']).dt.normalize()\n",
    "\n",
    "    # Alternatively, to set the time to noon (12:00:00), use:\n",
    "    # df['date'] = pd.to_datetime(df['date']).dt.normalize() + pd.Timedelta(hours=12)\n",
    "\n",
    "    # Identify columns to drop (computed regions, coordinates, and 'updated_on')\n",
    "    unwanted_cols = [col for col in df.columns if col.startswith(':@computed_region_')] + [\n",
    "        'id', 'iucr', 'year', 'x_coordinate', 'y_coordinate', 'case_number', 'updated_on', 'primary_type', 'description'\n",
    "    ]\n",
    "    # Drop unwanted columns\n",
    "    df.drop(columns=unwanted_cols, inplace=True)\n",
    "\n",
    "    return df\n",
    "\n",
    "\n",
    "def save_to_csv(df, filename=\"chicago_iucr.csv\"):\n",
    "    \"\"\"Save DataFrame to a CSV file.\"\"\"\n",
    "    df.to_csv(filename, index=False)\n",
    "\n",
    "def main():\n",
    "    # Extract data\n",
    "    df_raw = extract_data(socrata_app_token, socrata_user_id, socrata_password, rows_to_download=50000)\n",
    "    # Transform data\n",
    "    df_transformed = transform_data(df_raw)\n",
    "    # Save transformed data to CSV\n",
    "    save_to_csv(df_transformed)\n",
    "\n",
    "if __name__ == \"__main__\":\n",
    "    main()\n"
   ]
  },
  {
   "cell_type": "code",
   "execution_count": null,
   "id": "035dd57c-2280-4dd6-85a3-41cab4a8308d",
   "metadata": {},
   "outputs": [],
   "source": []
  }
 ],
 "metadata": {
  "kernelspec": {
   "display_name": "Python 3 (ipykernel)",
   "language": "python",
   "name": "python3"
  },
  "language_info": {
   "codemirror_mode": {
    "name": "ipython",
    "version": 3
   },
   "file_extension": ".py",
   "mimetype": "text/x-python",
   "name": "python",
   "nbconvert_exporter": "python",
   "pygments_lexer": "ipython3",
   "version": "3.11.6"
  }
 },
 "nbformat": 4,
 "nbformat_minor": 5
}
