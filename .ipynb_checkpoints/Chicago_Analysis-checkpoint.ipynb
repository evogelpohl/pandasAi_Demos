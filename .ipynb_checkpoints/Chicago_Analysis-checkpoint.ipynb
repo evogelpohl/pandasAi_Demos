{
 "cells": [
  {
   "cell_type": "markdown",
   "id": "b360f6a1-7191-4b1d-ab72-67620af99774",
   "metadata": {},
   "source": [
    "<img src='https://data.cityofchicago.org/api/assets/73F1665C-0FE6-4183-8AD1-E91DB8EFAFA4?7CB02402-8E06-48B0-8C9A-3890182D58C7.png'>"
   ]
  },
  {
   "cell_type": "markdown",
   "id": "1d62ab67-d968-4a74-b3c5-8353a8af1557",
   "metadata": {},
   "source": [
    "# Analyze Data Using English - A Behind-the-Scene Look\n",
    "### With Eric Vogelpohl - Field CTO, Presidio\n",
    "\n",
    "## Demo Objectives: \n",
    "* Similar to RAG with <b>unstructured</b> data (PDFs, TXT, HTML/FAQs, DOCs). Use LLMs with <b>structured<b> data\n",
    "* English as the analytical language - Working with a LLM over structured (table) data.\n",
    "* Demostrate how data catalogs can <b>enrich</b> and help maintain <b>privacy</b>."
   ]
  },
  {
   "cell_type": "code",
   "execution_count": 1,
   "id": "35dbe72d-b8a4-4c2b-aac7-d06cc8139dbe",
   "metadata": {
    "jupyter": {
     "source_hidden": true
    }
   },
   "outputs": [],
   "source": [
    "import pandas as pd\n",
    "crimes = pd.read_csv('https://raw.githubusercontent.com/evogelpohl/pandasAI_project/main/chicago_iucr.csv')\n",
    "\n",
    "import warnings\n",
    "warnings.filterwarnings('ignore')"
   ]
  },
  {
   "cell_type": "markdown",
   "id": "e17995fd-6dd7-41ff-ac60-1c9f4d619be6",
   "metadata": {},
   "source": [
    "# Setup the Pandas_AI Session <br>"
   ]
  },
  {
   "cell_type": "markdown",
   "id": "e5c8e16b-4ad4-4b2e-a018-3d523560d208",
   "metadata": {},
   "source": [
    "### Setup: Privacy: Create a FAKE PREVIEW Data - Prevent the LLM from 'seeing' our real data."
   ]
  },
  {
   "cell_type": "code",
   "execution_count": 2,
   "id": "653978fa-588c-4508-a2a7-6a1cb3b4d530",
   "metadata": {
    "jupyter": {
     "source_hidden": true
    }
   },
   "outputs": [],
   "source": [
    "# I've created fake data here to replicate what ours looks like\n",
    "\n",
    "fake_data = {\n",
    "    \"date\": [\"2099-03-14\", \"2099-03-14\", \"2099-03-14\"],\n",
    "    \"block\": [\"033XX S KEDZIE AVE\", \"093XX S VINCENNES AVE\", \"117XX S HALSTED ST\"],\n",
    "    \"location_description\": [\"STREET\", \"STREET\", \"RESIDENCE\"],\n",
    "    \"arrest\": [False, True, False],\n",
    "    \"domestic\": [False, False, True],\n",
    "    \"beat\": [1033, 635, 525],\n",
    "    \"district\": [10, 6, 5],\n",
    "    \"ward\": [22, 21, 34],\n",
    "    \"community_area\": [28.0, 71.0, 55.0],\n",
    "    \"fbi_code\": [\"07\", \"04A\", \"14\"],\n",
    "    \"year\": [2024, 2024, 2024],\n",
    "    \"latitude\": [41.827391, 41.722932, None],\n",
    "    \"longitude\": [-87.705487, -87.653322, None],\n",
    "    \"location\": [{\"latitude\": \"41.827391\", \"longitude\": \"-87.705487\"}, {\"latitude\": \"41.722932\", \"longitude\": \"-87.653322\"}, None],\n",
    "    \"crime\": [\"MOTOR VEHICLE THEFT - UNAUTHORIZED POSSESSION\", \"ASSAULT - AGGRAVATED - OTHER FIREARM\", \"CRIMINAL DAMAGE - TO VEHICLE\"]\n",
    "}\n",
    "\n",
    "# Create the adjusted DataFrame\n",
    "fake_example_df = pd.DataFrame(fake_data)\n"
   ]
  },
  {
   "cell_type": "markdown",
   "id": "b932d94e-22c7-4465-9a47-d40045c27aeb",
   "metadata": {},
   "source": [
    "### Setup: Simulate a Data Catalog Feature: Columm Descriptions (aka, metadata)"
   ]
  },
  {
   "cell_type": "code",
   "execution_count": 3,
   "id": "9eeb7932-483b-4e5d-8b8c-fda89b3273ef",
   "metadata": {
    "jupyter": {
     "source_hidden": true
    }
   },
   "outputs": [],
   "source": [
    "field_descriptions = {\n",
    "    \"date\": \"The Date when the incident occurred. Stored as text.\",\n",
    "    \"block\": \"Partially redacted address where the incident occurred, within the same block as the actual address.\",\n",
    "    \"location_description\": \"Description of the location where the incident occurred.\",\n",
    "    \"arrest\": \"Indicates whether an arrest was made.\",\n",
    "    \"domestic\": \"Indicates whether the incident was domestic-related as per the Illinois Domestic Violence Act.\",\n",
    "    \"beat\": \"Police beat where the incident occurred, part of the smallest police geographic area.\",\n",
    "    \"district\": \"Police district where the incident occurred.\",\n",
    "    \"ward\": \"City Council district (ward) where the incident occurred.\",\n",
    "    \"community_area\": \"Indicates the community area where the incident occurred, with Chicago having 77 community areas.\",\n",
    "    \"fbi_code\": \"Crime classification as outlined in the FBI's National Incident-Based Reporting System (NIBRS).\",\n",
    "    \"latitude\": \"Latitude of the incident location, shifted for partial redaction but on the same block.\",\n",
    "    \"longitude\": \"Longitude of the incident location, shifted for partial redaction but on the same block.\",\n",
    "    \"crime\": \"The crime committed, aka the incident.\"\n",
    "}\n"
   ]
  },
  {
   "cell_type": "markdown",
   "id": "d5af6dc4-e033-4af7-a87f-7142cec7f762",
   "metadata": {},
   "source": [
    "### Setup: Create the LLM settings for Pandas AI"
   ]
  },
  {
   "cell_type": "code",
   "execution_count": 4,
   "id": "1a7af5c9-1bfb-4819-b580-147bce167b01",
   "metadata": {
    "jupyter": {
     "source_hidden": true
    }
   },
   "outputs": [],
   "source": [
    "# Retrieve the API key from environment variables\n",
    "\n",
    "import os\n",
    "from pandasai import SmartDataframe\n",
    "from pandasai.llm import AzureOpenAI\n",
    "from pandasai.llm.local_llm import LocalLLM\n",
    "from pandasai.llm import OpenAI\n",
    "from pandasai.connectors import PandasConnector\n",
    "from dotenv import load_dotenv\n",
    "# Load environment variables from .env file\n",
    "load_dotenv()\n",
    "\n",
    "# Get my Openai Var Key\n",
    "open_ai_key = os.getenv('OPENAI_API_KEY')\n",
    "\n",
    "# Choose the model\n",
    "select_model = 'OpenAI' #OpenAI $$, #AzureOpenAI #Presdio #Local MyModel mY Macbook\n",
    "\n",
    "if select_model == 'Azure':\n",
    "    # Define the LLM model for Azure (if True)\n",
    "    azure_api_key = os.getenv('AZURE_OPENAI_API_KEY')\n",
    "    azure_api_ver = os.getenv('AZURE_API_VERSION')\n",
    "    azure_api_endpt = os.getenv('AZURE_OPENAI_ENDPOINT')\n",
    "    azure_oai_deployment = os.getenv('AZURE_OPENAI_DEPLOYMENT')\n",
    "    llm = AzureOpenAI(\n",
    "        api_token=azure_api_key,\n",
    "        azure_endpoint=azure_api_endpt,\n",
    "        api_version=azure_api_ver,\n",
    "        deployment_name=azure_oai_deployment,\n",
    "        temperature=0,\n",
    "        seed=26,\n",
    "    )\n",
    "elif select_model == 'OpenAI':\n",
    "    openai_api_key = os.getenv('OPENAI_API_KEY')\n",
    "    llm = OpenAI(model=\"gpt-4-1106-preview\", api_token=openai_api_key, \n",
    "                 temperature=.2,\n",
    "                 seed=35,\n",
    "                )\n",
    "    \n",
    "elif select_model == 'Local':\n",
    "    llm = LocalLLM(api_base=\"http://host.docker.internal:1234/v1\",\n",
    "                  temperature=0, \n",
    "                  seed=55,\n",
    "                  )\n",
    "\n",
    "# A description of the overall table\n",
    "description = '''A dataset of all crimes committed in Chicago along with location, district, ward and date.'''\n",
    "connector = PandasConnector({'original_df':crimes}, custom_head=fake_example_df, field_descriptions=field_descriptions, \\\n",
    "                            name='Chicago Crimes', description=description\n",
    "                           )\n",
    "df = SmartDataframe(connector, config={\n",
    "                                        'llm': llm,\n",
    "                                        'enable_cache': False,\n",
    "                                        'verbose': False,\n",
    "                                        'save_charts': False,\n",
    "                                        'open_charts': True,\n",
    "                                        #'save_charts_path': './saved_plots',\n",
    "                                        }\n",
    "                   )"
   ]
  },
  {
   "cell_type": "markdown",
   "id": "b052d6cb-851c-4a7e-9c80-e9088580ac0e",
   "metadata": {},
   "source": [
    "# Explore the Data with QA <br>"
   ]
  },
  {
   "cell_type": "code",
   "execution_count": 8,
   "id": "59bf0a1a-2b72-4544-aa88-e0b6f1ae59a2",
   "metadata": {},
   "outputs": [],
   "source": [
    "#Ask the question: \n",
    "query = \"What are the top 10 crimes committed so far in the year 2024?\"\n",
    "\n",
    "# Send the question & our fake data to OpenAI, returns the code to run\n",
    "df.chat(query)"
   ]
  },
  {
   "cell_type": "code",
   "execution_count": 9,
   "id": "98da1a0b-777a-4244-bee8-a1d8e51de8be",
   "metadata": {},
   "outputs": [],
   "source": [
    "print(df.last_code_generated)"
   ]
  },
  {
   "cell_type": "code",
   "execution_count": null,
   "id": "14ab3fed-e2f6-4984-81d6-0fc4c2d653e8",
   "metadata": {},
   "outputs": [],
   "source": []
  }
 ],
 "metadata": {
  "kernelspec": {
   "display_name": "Python 3 (ipykernel)",
   "language": "python",
   "name": "python3"
  },
  "language_info": {
   "codemirror_mode": {
    "name": "ipython",
    "version": 3
   },
   "file_extension": ".py",
   "mimetype": "text/x-python",
   "name": "python",
   "nbconvert_exporter": "python",
   "pygments_lexer": "ipython3",
   "version": "3.11.6"
  }
 },
 "nbformat": 4,
 "nbformat_minor": 5
}
