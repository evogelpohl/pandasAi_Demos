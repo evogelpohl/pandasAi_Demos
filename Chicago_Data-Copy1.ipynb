{
 "cells": [
  {
   "cell_type": "code",
   "execution_count": 1,
   "id": "f195e482-be89-4d39-8f01-0ed36096a121",
   "metadata": {},
   "outputs": [
    {
     "data": {
      "text/plain": [
       "False"
      ]
     },
     "execution_count": 1,
     "metadata": {},
     "output_type": "execute_result"
    }
   ],
   "source": [
    "import requests\n",
    "import pandas as pd\n",
    "import os\n",
    "\n",
    "from sodapy import Socrata\n",
    "from pandasai import SmartDataframe\n",
    "from pandasai.llm import OpenAI\n",
    "from dotenv import load_dotenv\n",
    "\n",
    "\n",
    "# Load environment variables from .env file\n",
    "load_dotenv()"
   ]
  },
  {
   "cell_type": "code",
   "execution_count": 2,
   "id": "35dbe72d-b8a4-4c2b-aac7-d06cc8139dbe",
   "metadata": {},
   "outputs": [],
   "source": [
    "# EXTRACT CODE\n",
    "\n",
    "socrata_app_token = os.getenv('SOCRATE_APP_TOKEN')\n",
    "socrata_user_id = os.getenv('SOCRATA_MYLOGIN')\n",
    "socrata_password = os.getenv('SOCRATA_MYPW')\n",
    "\n",
    "# Unauthenticated client only works with public data sets. Note 'None'\n",
    "# Example authenticated client (needed for non-public datasets):\n",
    "client = Socrata(\"data.cityofchicago.org\",\n",
    "                 socrata_app_token,\n",
    "                 username=socrata_user_id,\n",
    "                 password=socrata_password\n",
    "                )\n",
    "\n",
    "client.timeout = 30\n",
    "\n",
    "rows_to_download = 50\n",
    "results = client.get(\"ijzp-q8t2\", limit=rows_to_download)\n",
    "\n",
    "# Convert to pandas DataFrame\n",
    "results_df = pd.DataFrame.from_records(results)\n",
    "\n",
    "# TRANSFORM CODE\n",
    "\n",
    "# Convert columns to 'string' (object in pandas)\n",
    "string_columns = [\n",
    "    'id', 'case_number', 'block', 'iucr', 'primary_type', 'description', \n",
    "    'location_description', 'district', 'beat', 'fbi_code'\n",
    "]\n",
    "results_df[string_columns] = results_df[string_columns].astype(str)\n",
    "\n",
    "# Convert 'year', 'ward', and various region-related columns to 'numeric' (int or float as appropriate)\n",
    "numeric_columns = [\n",
    "    'year', 'ward', ':@computed_region_awaf_s7ux', ':@computed_region_6mkv_f3dw', \n",
    "    ':@computed_region_vrxf_vc4k', ':@computed_region_bdys_3d7i', \n",
    "    ':@computed_region_43wa_7qmu', ':@computed_region_rpca_8um6', \n",
    "    ':@computed_region_d9mm_jgwp', ':@computed_region_d3ds_rm58', \n",
    "    ':@computed_region_8hcu_yrd4', 'x_coordinate', 'y_coordinate', \n",
    "    'latitude', 'longitude'\n",
    "]\n",
    "results_df[numeric_columns] = results_df[numeric_columns].apply(pd.to_numeric, errors='coerce')\n",
    "\n",
    "# Convert 'date' and 'updated_on' columns to datetime\n",
    "datetime_columns = ['date', 'updated_on']\n",
    "results_df[datetime_columns] = results_df[datetime_columns].apply(pd.to_datetime, errors='coerce')\n",
    "results_df = results_df.rename(columns={'date': 'datetime'})\n",
    "\n",
    "#Create a new column called 'date' that is the date ONLY portion of the datetime column, in date format\n",
    "results_df['date'] = results_df['datetime'].dt.date\n",
    "results_df['date'] = pd.to_datetime(results_df['date'])\n",
    "\n",
    "# Convert 'arrest' and 'domestic' columns to boolean\n",
    "boolean_columns = ['arrest', 'domestic']\n",
    "results_df[boolean_columns] = results_df[boolean_columns].astype(bool)\n",
    "\n",
    "# Assuming 'location' should be a JSON-like string, ensure it is a string. \n",
    "results_df['location'] = results_df['location'].astype(str)\n",
    "\n",
    "# Concatenating 'primary_type' and 'description' into a new column 'crime'\n",
    "results_df['crime'] = results_df['primary_type'] + ' - ' + results_df['description']\n"
   ]
  },
  {
   "cell_type": "code",
   "execution_count": 3,
   "id": "6adf8a9b-4ed9-47d7-96c5-965780c10356",
   "metadata": {},
   "outputs": [
    {
     "ename": "AttributeError",
     "evalue": "'DataFrame' object has no attribute 'dt'",
     "output_type": "error",
     "traceback": [
      "\u001b[0;31m---------------------------------------------------------------------------\u001b[0m",
      "\u001b[0;31mAttributeError\u001b[0m                            Traceback (most recent call last)",
      "\u001b[0;32m/tmp/ipykernel_12928/2683890063.py\u001b[0m in \u001b[0;36m?\u001b[0;34m()\u001b[0m\n\u001b[1;32m     21\u001b[0m \u001b[0mresults_df\u001b[0m\u001b[0;34m[\u001b[0m\u001b[0mdatetime_columns\u001b[0m\u001b[0;34m]\u001b[0m \u001b[0;34m=\u001b[0m \u001b[0mresults_df\u001b[0m\u001b[0;34m[\u001b[0m\u001b[0mdatetime_columns\u001b[0m\u001b[0;34m]\u001b[0m\u001b[0;34m.\u001b[0m\u001b[0mapply\u001b[0m\u001b[0;34m(\u001b[0m\u001b[0mpd\u001b[0m\u001b[0;34m.\u001b[0m\u001b[0mto_datetime\u001b[0m\u001b[0;34m,\u001b[0m \u001b[0merrors\u001b[0m\u001b[0;34m=\u001b[0m\u001b[0;34m'coerce'\u001b[0m\u001b[0;34m)\u001b[0m\u001b[0;34m\u001b[0m\u001b[0;34m\u001b[0m\u001b[0m\n\u001b[1;32m     22\u001b[0m \u001b[0mresults_df\u001b[0m \u001b[0;34m=\u001b[0m \u001b[0mresults_df\u001b[0m\u001b[0;34m.\u001b[0m\u001b[0mrename\u001b[0m\u001b[0;34m(\u001b[0m\u001b[0mcolumns\u001b[0m\u001b[0;34m=\u001b[0m\u001b[0;34m{\u001b[0m\u001b[0;34m'date'\u001b[0m\u001b[0;34m:\u001b[0m \u001b[0;34m'datetime'\u001b[0m\u001b[0;34m}\u001b[0m\u001b[0;34m)\u001b[0m\u001b[0;34m\u001b[0m\u001b[0;34m\u001b[0m\u001b[0m\n\u001b[1;32m     23\u001b[0m \u001b[0;34m\u001b[0m\u001b[0m\n\u001b[1;32m     24\u001b[0m \u001b[0;31m#Create a new column called 'date' that is the date ONLY portion of the datetime column, in date format\u001b[0m\u001b[0;34m\u001b[0m\u001b[0;34m\u001b[0m\u001b[0m\n\u001b[0;32m---> 25\u001b[0;31m \u001b[0mresults_df\u001b[0m\u001b[0;34m[\u001b[0m\u001b[0;34m'date'\u001b[0m\u001b[0;34m]\u001b[0m \u001b[0;34m=\u001b[0m \u001b[0mresults_df\u001b[0m\u001b[0;34m[\u001b[0m\u001b[0;34m'datetime'\u001b[0m\u001b[0;34m]\u001b[0m\u001b[0;34m.\u001b[0m\u001b[0mdt\u001b[0m\u001b[0;34m.\u001b[0m\u001b[0mdate\u001b[0m\u001b[0;34m\u001b[0m\u001b[0;34m\u001b[0m\u001b[0m\n\u001b[0m\u001b[1;32m     26\u001b[0m \u001b[0mresults_df\u001b[0m\u001b[0;34m[\u001b[0m\u001b[0;34m'date'\u001b[0m\u001b[0;34m]\u001b[0m \u001b[0;34m=\u001b[0m \u001b[0mpd\u001b[0m\u001b[0;34m.\u001b[0m\u001b[0mto_datetime\u001b[0m\u001b[0;34m(\u001b[0m\u001b[0mresults_df\u001b[0m\u001b[0;34m[\u001b[0m\u001b[0;34m'date'\u001b[0m\u001b[0;34m]\u001b[0m\u001b[0;34m)\u001b[0m\u001b[0;34m\u001b[0m\u001b[0;34m\u001b[0m\u001b[0m\n\u001b[1;32m     27\u001b[0m \u001b[0;34m\u001b[0m\u001b[0m\n\u001b[1;32m     28\u001b[0m \u001b[0;31m# Convert 'arrest' and 'domestic' columns to boolean\u001b[0m\u001b[0;34m\u001b[0m\u001b[0;34m\u001b[0m\u001b[0m\n",
      "\u001b[0;32m/opt/conda/lib/python3.11/site-packages/pandas/core/generic.py\u001b[0m in \u001b[0;36m?\u001b[0;34m(self, name)\u001b[0m\n\u001b[1;32m   5985\u001b[0m             \u001b[0;32mand\u001b[0m \u001b[0mname\u001b[0m \u001b[0;32mnot\u001b[0m \u001b[0;32min\u001b[0m \u001b[0mself\u001b[0m\u001b[0;34m.\u001b[0m\u001b[0m_accessors\u001b[0m\u001b[0;34m\u001b[0m\u001b[0;34m\u001b[0m\u001b[0m\n\u001b[1;32m   5986\u001b[0m             \u001b[0;32mand\u001b[0m \u001b[0mself\u001b[0m\u001b[0;34m.\u001b[0m\u001b[0m_info_axis\u001b[0m\u001b[0;34m.\u001b[0m\u001b[0m_can_hold_identifiers_and_holds_name\u001b[0m\u001b[0;34m(\u001b[0m\u001b[0mname\u001b[0m\u001b[0;34m)\u001b[0m\u001b[0;34m\u001b[0m\u001b[0;34m\u001b[0m\u001b[0m\n\u001b[1;32m   5987\u001b[0m         ):\n\u001b[1;32m   5988\u001b[0m             \u001b[0;32mreturn\u001b[0m \u001b[0mself\u001b[0m\u001b[0;34m[\u001b[0m\u001b[0mname\u001b[0m\u001b[0;34m]\u001b[0m\u001b[0;34m\u001b[0m\u001b[0;34m\u001b[0m\u001b[0m\n\u001b[0;32m-> 5989\u001b[0;31m         \u001b[0;32mreturn\u001b[0m \u001b[0mobject\u001b[0m\u001b[0;34m.\u001b[0m\u001b[0m__getattribute__\u001b[0m\u001b[0;34m(\u001b[0m\u001b[0mself\u001b[0m\u001b[0;34m,\u001b[0m \u001b[0mname\u001b[0m\u001b[0;34m)\u001b[0m\u001b[0;34m\u001b[0m\u001b[0;34m\u001b[0m\u001b[0m\n\u001b[0m",
      "\u001b[0;31mAttributeError\u001b[0m: 'DataFrame' object has no attribute 'dt'"
     ]
    }
   ],
   "source": [
    "# Convert columns to 'string' (object in pandas)\n",
    "string_columns = [\n",
    "    'id', 'case_number', 'block', 'iucr', 'crime', 'primary_type',\n",
    "    'location_description', 'district', 'beat', 'fbi_code'\n",
    "]\n",
    "results_df[string_columns] = results_df[string_columns].astype(str)\n",
    "\n",
    "# Convert 'year', 'ward', and various region-related columns to 'numeric' (int or float as appropriate)\n",
    "numeric_columns = [\n",
    "    'year', 'ward', ':@computed_region_awaf_s7ux', ':@computed_region_6mkv_f3dw', \n",
    "    ':@computed_region_vrxf_vc4k', ':@computed_region_bdys_3d7i', \n",
    "    ':@computed_region_43wa_7qmu', ':@computed_region_rpca_8um6', \n",
    "    ':@computed_region_d9mm_jgwp', ':@computed_region_d3ds_rm58', \n",
    "    ':@computed_region_8hcu_yrd4', 'x_coordinate', 'y_coordinate', \n",
    "    'latitude', 'longitude'\n",
    "]\n",
    "results_df[numeric_columns] = results_df[numeric_columns].apply(pd.to_numeric, errors='coerce')\n",
    "\n",
    "# Convert 'date' and 'updated_on' columns to datetime\n",
    "datetime_columns = ['date', 'updated_on']\n",
    "results_df[datetime_columns] = results_df[datetime_columns].apply(pd.to_datetime, errors='coerce')\n",
    "results_df = results_df.rename(columns={'date': 'datetime'})\n",
    "\n",
    "#Create a new column called 'date' that is the date ONLY portion of the datetime column, in date format\n",
    "results_df['date'] = results_df['datetime'].dt.date\n",
    "results_df['date'] = pd.to_datetime(results_df['date'])\n",
    "\n",
    "# Convert 'arrest' and 'domestic' columns to boolean\n",
    "boolean_columns = ['arrest', 'domestic']\n",
    "results_df[boolean_columns] = results_df[boolean_columns].astype(bool)\n",
    "\n",
    "# Assuming 'location' should be a JSON-like string, ensure it is a string. \n",
    "results_df['location'] = results_df['location'].astype(str)"
   ]
  },
  {
   "cell_type": "code",
   "execution_count": null,
   "id": "1cb0b4ac-bd37-4e37-bb49-a50d0cc5e27d",
   "metadata": {},
   "outputs": [],
   "source": [
    "# # Fetch IUCR descriptions\n",
    "# iucr_url = 'https://data.cityofchicago.org/resource/c7ck-438e.json'\n",
    "# iucr_response = requests.get(iucr_url)\n",
    "\n",
    "# if iucr_response.status_code == 200:\n",
    "#     iucr_data = iucr_response.json()\n",
    "#     iucr_df = pd.DataFrame(iucr_data)\n",
    "    \n",
    "#     # Convert 'iucr' in iucr_df to match the type in results_df if necessary\n",
    "#     # Assuming 'iucr' in results_df is already string, if not, convert it\n",
    "#     results_df['iucr'] = results_df['iucr'].astype(str)\n",
    "#     iucr_df['iucr'] = iucr_df['iucr'].astype(str)\n",
    "    \n",
    "#     # Merge iucr_df with results_df on 'iucr' to add descriptions\n",
    "#     results_df = pd.merge(results_df, iucr_df[['iucr', 'primary_description', 'secondary_description']], on='iucr', how='left')\n",
    "#     results_df = results_df.rename(columns={\n",
    "#                                             'primary_description': 'primary_iucr_desc',\n",
    "#                                             'secondary_description': 'secondary_iucr_desc'})\n",
    "# else:\n",
    "#     print(f\"Failed to fetch IUCR data. Status code: {iucr_response.status_code}\")\n"
   ]
  },
  {
   "cell_type": "code",
   "execution_count": null,
   "id": "1a9a695f-c8cf-48e0-8d7c-338940194d32",
   "metadata": {},
   "outputs": [],
   "source": [
    "# Identify columns with the prefix ':@computed_region_' and explicitly add 'primary_type'\n",
    "unwanted_cols = [col for col in results_df.columns if col.startswith(':@computed_region_')]\n",
    "unwanted_cols.append('iucr')\n",
    "unwanted_cols.append('x_coordinate')\n",
    "unwanted_cols.append('y_coordinate')\n",
    "unwanted_cols.append('updated_on')\n",
    "\n",
    "# Drop these unwanted columns from the DataFrame\n",
    "try:\n",
    "    results_df = results_df.drop(columns=unwanted_cols)\n",
    "except:\n",
    "    None\n",
    "\n",
    "results_df.to_csv('chicago_iucr.csv', index=False)"
   ]
  },
  {
   "cell_type": "code",
   "execution_count": null,
   "id": "f75654b4-51fd-4ff4-a38c-3f2dbd445688",
   "metadata": {},
   "outputs": [],
   "source": [
    "results_df.info()"
   ]
  },
  {
   "cell_type": "code",
   "execution_count": null,
   "id": "b515d2e6-4064-4f1b-8678-f7b6306eada3",
   "metadata": {},
   "outputs": [],
   "source": []
  }
 ],
 "metadata": {
  "kernelspec": {
   "display_name": "Python 3 (ipykernel)",
   "language": "python",
   "name": "python3"
  },
  "language_info": {
   "codemirror_mode": {
    "name": "ipython",
    "version": 3
   },
   "file_extension": ".py",
   "mimetype": "text/x-python",
   "name": "python",
   "nbconvert_exporter": "python",
   "pygments_lexer": "ipython3",
   "version": "3.11.6"
  }
 },
 "nbformat": 4,
 "nbformat_minor": 5
}
