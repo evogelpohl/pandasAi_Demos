{
 "cells": [
  {
   "cell_type": "markdown",
   "id": "43db8708",
   "metadata": {},
   "source": [
    "## Installers"
   ]
  },
  {
   "cell_type": "code",
   "execution_count": 2,
   "id": "1630498a",
   "metadata": {},
   "outputs": [],
   "source": [
    "!pip install pandas==1.5.3 --quiet\n",
    "!pip install sodapy --quiet"
   ]
  },
  {
   "cell_type": "markdown",
   "id": "289d53b9",
   "metadata": {},
   "source": [
    "## Get Current Chicago Crime Data from Socrata Data Services\n",
    "#### Free for limited gets or put a uid/pw/appkey into your .env file for larger downloads"
   ]
  },
  {
   "cell_type": "code",
   "execution_count": 2,
   "id": "cb307115-1467-48f2-964b-a0d3c3595cca",
   "metadata": {},
   "outputs": [],
   "source": [
    "# IMPORTS\n",
    "import os\n",
    "import pandas as pd\n",
    "from sodapy import Socrata\n",
    "from dotenv import load_dotenv\n",
    "\n",
    "# Load env vars\n",
    "load_dotenv()\n",
    "socrata_app_token = os.getenv('SOCRATE_APP_TOKEN')\n",
    "socrata_user_id = os.getenv('SOCRATA_MYLOGIN')\n",
    "socrata_password = os.getenv('SOCRATA_MYPW')\n",
    "\n",
    "def extract_data(token, user_id, password, dataset_id=\"ijzp-q8t2\", rows_to_download=50):\n",
    "    \"\"\"Extract data from the Socrata API.\"\"\"\n",
    "    client = Socrata(\"data.cityofchicago.org\", token, username=user_id, password=password)\n",
    "    client.timeout = 30  # Set request timeout\n",
    "    return pd.DataFrame.from_records(client.get(dataset_id, limit=rows_to_download))\n",
    "\n",
    "def transform_data(df):\n",
    "    \"\"\"Simplify the DataFrame by creating and dropping columns.\"\"\"\n",
    "    # Create 'crime' column by concatenating 'primary_type' and 'description'\n",
    "    df['crime'] = df['primary_type'] + ' - ' + df['description']\n",
    "\n",
    "    # If you want to set the time to midnight (00:00:00)\n",
    "    df['date'] = pd.to_datetime(df['date']).dt.normalize()\n",
    "\n",
    "    # To set the time to noon (12:00:00), use:\n",
    "    # df['date'] = pd.to_datetime(df['date']).dt.normalize() + pd.Timedelta(hours=12)\n",
    "\n",
    "    # Identify columns to drop (computed regions, coordinates, and 'updated_on')\n",
    "    unwanted_cols = [col for col in df.columns if col.startswith(':@computed_region_')] + [\n",
    "        'id', 'iucr', 'year', 'x_coordinate', 'y_coordinate', 'case_number', 'updated_on', 'primary_type', 'description'\n",
    "    ]\n",
    "    # Drop unwanted columns\n",
    "    df.drop(columns=unwanted_cols, inplace=True)\n",
    "\n",
    "    return df\n",
    "\n",
    "\n",
    "def save_to_csv(df, filename=\"./data/chicago_iucr.csv\"):\n",
    "    \"\"\"Save DataFrame to a CSV file.\"\"\"\n",
    "    df.to_csv(filename, index=False)\n",
    "\n",
    "def main():\n",
    "    # Extract data\n",
    "    df_raw = extract_data(socrata_app_token, socrata_user_id, socrata_password, rows_to_download=300000)\n",
    "    # Transform data\n",
    "    df_transformed = transform_data(df_raw)\n",
    "    # Save transformed data to CSV\n",
    "    save_to_csv(df_transformed)\n",
    "\n",
    "if __name__ == \"__main__\":\n",
    "    main()\n"
   ]
  },
  {
   "cell_type": "code",
   "execution_count": null,
   "id": "cea5cea4",
   "metadata": {},
   "outputs": [],
   "source": []
  }
 ],
 "metadata": {
  "kernelspec": {
   "display_name": "Python 3 (ipykernel)",
   "language": "python",
   "name": "python3"
  },
  "language_info": {
   "codemirror_mode": {
    "name": "ipython",
    "version": 3
   },
   "file_extension": ".py",
   "mimetype": "text/x-python",
   "name": "python",
   "nbconvert_exporter": "python",
   "pygments_lexer": "ipython3",
   "version": "3.12.3"
  }
 },
 "nbformat": 4,
 "nbformat_minor": 5
}
